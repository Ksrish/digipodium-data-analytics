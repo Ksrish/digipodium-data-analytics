{
 "cells": [
  {
   "cell_type": "code",
   "execution_count": 1,
   "metadata": {},
   "outputs": [
    {
     "name": "stdout",
     "output_type": "stream",
     "text": [
      "srishti kashyap\n"
     ]
    }
   ],
   "source": [
    "name = \"srishti kashyap\"\n",
    "print(name)\n"
   ]
  },
  {
   "cell_type": "code",
   "execution_count": 6,
   "metadata": {},
   "outputs": [
    {
     "name": "stdout",
     "output_type": "stream",
     "text": [
      "lucknow\n"
     ]
    }
   ],
   "source": [
    "city = input('enter your city')\n",
    "print(city)"
   ]
  },
  {
   "cell_type": "code",
   "execution_count": 7,
   "metadata": {},
   "outputs": [
    {
     "name": "stdout",
     "output_type": "stream",
     "text": [
      "lucknow university\n",
      "bca\n",
      "9\n"
     ]
    }
   ],
   "source": [
    "college = input('enter your college')\n",
    "klass = input('enter your class')\n",
    "iq = input('enter your iq')\n",
    "print(college)\n",
    "print(klass)\n",
    "print(iq)"
   ]
  },
  {
   "cell_type": "code",
   "execution_count": 9,
   "metadata": {},
   "outputs": [
    {
     "name": "stdout",
     "output_type": "stream",
     "text": [
      "lucknow\n",
      "lucknow university\n",
      "bca\n",
      "9\n"
     ]
    }
   ],
   "source": [
    "print(city,college,klass,iq, sep='\\n')"
   ]
  },
  {
   "cell_type": "code",
   "execution_count": 10,
   "metadata": {},
   "outputs": [
    {
     "name": "stdout",
     "output_type": "stream",
     "text": [
      "lucknow\tlucknow university\tbca\t9\n"
     ]
    }
   ],
   "source": [
    "print(city,college,klass,iq, sep='\\t')"
   ]
  },
  {
   "cell_type": "code",
   "execution_count": 12,
   "metadata": {},
   "outputs": [
    {
     "name": "stdout",
     "output_type": "stream",
     "text": [
      "lucknow🤷‍♀️lucknow university🤷‍♀️bca🤷‍♀️9\n"
     ]
    }
   ],
   "source": [
    "print(city,college,klass,iq, sep='🤷‍♀️')"
   ]
  },
  {
   "cell_type": "code",
   "execution_count": 13,
   "metadata": {},
   "outputs": [
    {
     "data": {
      "text/plain": [
       "'hello lucknow'"
      ]
     },
     "execution_count": 13,
     "metadata": {},
     "output_type": "execute_result"
    }
   ],
   "source": [
    "f'hello {city}'"
   ]
  },
  {
   "cell_type": "code",
   "execution_count": 15,
   "metadata": {},
   "outputs": [
    {
     "name": "stdout",
     "output_type": "stream",
     "text": [
      "hi, i am srishti kashyap\n",
      "i live in lucknow\n",
      "i study in lucknow university\n",
      " i am in bca\n",
      "my iq is 9\n"
     ]
    }
   ],
   "source": [
    "print(f'hi, i am {name}')\n",
    "print(f'i live in {city}')\n",
    "print(f'i study in {college}')\n",
    "print(f' i am in {klass}')\n",
    "print(f'my iq is {iq}')\n"
   ]
  },
  {
   "cell_type": "code",
   "execution_count": null,
   "metadata": {},
   "outputs": [],
   "source": []
  }
 ],
 "metadata": {
  "kernelspec": {
   "display_name": "base",
   "language": "python",
   "name": "python3"
  },
  "language_info": {
   "codemirror_mode": {
    "name": "ipython",
    "version": 3
   },
   "file_extension": ".py",
   "mimetype": "text/x-python",
   "name": "python",
   "nbconvert_exporter": "python",
   "pygments_lexer": "ipython3",
   "version": "3.10.10"
  },
  "orig_nbformat": 4
 },
 "nbformat": 4,
 "nbformat_minor": 2
}
