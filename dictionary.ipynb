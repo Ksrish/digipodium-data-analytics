{
 "cells": [
  {
   "cell_type": "code",
   "execution_count": 1,
   "metadata": {},
   "outputs": [],
   "source": [
    "lbs_info = {\n",
    "    'full_name': \"lal bahadur shastri college\",\n",
    "    'short name': 'lbs',\n",
    "    'students': 440,\n",
    "    'culture': 'mood kharab bachhe'\n",
    "}\n"
   ]
  },
  {
   "cell_type": "code",
   "execution_count": 4,
   "metadata": {},
   "outputs": [],
   "source": [
    "movies = {\n",
    "    'Suryavansham': {   \n",
    "     'streamed on': 'Sony max',\n",
    "    'plot': 'Rich father doesnot like his illiterate son',\n",
    "    'rating': 10,\n",
    "    },\n",
    "'Ghajini': {\n",
    "    'plot' : 'Rich person forgets everything after 15 minutes',\n",
    "    'rating' : 10,\n",
    "    'streamed on' :'jio cinema'    \n",
    "    },\n",
    "    'queen': {\n",
    "        'streamed on': 'netflix',\n",
    "        'plot' : 'punjabi girl goes on solo honeymoon',\n",
    "        'rating' : 9,\n",
    "    },\n",
    "    'slumdog millionaire': {\n",
    "        'plot' : 'who wants to be a millionaire',\n",
    "        'rating' : 10,\n",
    "        'streamed on' : 'amazon prime',\n",
    "    }\n",
    "}    "
   ]
  },
  {
   "attachments": {},
   "cell_type": "markdown",
   "metadata": {},
   "source": [
    "Adding data"
   ]
  },
  {
   "cell_type": "code",
   "execution_count": 6,
   "metadata": {},
   "outputs": [
    {
     "data": {
      "text/plain": [
       "{'plot': 'Rich person forgets everything after 15 minutes',\n",
       " 'rating': 10,\n",
       " 'streamed on': 'jio cinema'}"
      ]
     },
     "execution_count": 6,
     "metadata": {},
     "output_type": "execute_result"
    }
   ],
   "source": [
    "#retrieve\n",
    "movies['Ghajini']"
   ]
  },
  {
   "cell_type": "code",
   "execution_count": 7,
   "metadata": {},
   "outputs": [
    {
     "data": {
      "text/plain": [
       "{'plot': 'who wants to be a millionaire',\n",
       " 'rating': 10,\n",
       " 'streamed on': 'amazon prime'}"
      ]
     },
     "execution_count": 7,
     "metadata": {},
     "output_type": "execute_result"
    }
   ],
   "source": [
    "movies['slumdog millionaire']"
   ]
  },
  {
   "cell_type": "code",
   "execution_count": 8,
   "metadata": {},
   "outputs": [
    {
     "data": {
      "text/plain": [
       "'who wants to be a millionaire'"
      ]
     },
     "execution_count": 8,
     "metadata": {},
     "output_type": "execute_result"
    }
   ],
   "source": [
    "movies['slumdog millionaire']['plot']"
   ]
  },
  {
   "cell_type": "code",
   "execution_count": 9,
   "metadata": {},
   "outputs": [
    {
     "data": {
      "text/plain": [
       "['Suryavansham', 'Ghajini', 'queen', 'slumdog millionaire']"
      ]
     },
     "execution_count": 9,
     "metadata": {},
     "output_type": "execute_result"
    }
   ],
   "source": [
    "# getting only keys\n",
    "list(movies.keys())\n"
   ]
  },
  {
   "cell_type": "code",
   "execution_count": 10,
   "metadata": {},
   "outputs": [
    {
     "data": {
      "text/plain": [
       "[{'streamed on': 'Sony max',\n",
       "  'plot': 'Rich father doesnot like his illiterate son',\n",
       "  'rating': 10},\n",
       " {'plot': 'Rich person forgets everything after 15 minutes',\n",
       "  'rating': 10,\n",
       "  'streamed on': 'jio cinema'},\n",
       " {'streamed on': 'netflix',\n",
       "  'plot': 'punjabi girl goes on solo honeymoon',\n",
       "  'rating': 9},\n",
       " {'plot': 'who wants to be a millionaire',\n",
       "  'rating': 10,\n",
       "  'streamed on': 'amazon prime'}]"
      ]
     },
     "execution_count": 10,
     "metadata": {},
     "output_type": "execute_result"
    }
   ],
   "source": [
    "# getting only values\n",
    "list(movies.values())\n"
   ]
  },
  {
   "cell_type": "code",
   "execution_count": 11,
   "metadata": {},
   "outputs": [
    {
     "data": {
      "text/plain": [
       "dict_items([('Suryavansham', {'streamed on': 'Sony max', 'plot': 'Rich father doesnot like his illiterate son', 'rating': 10}), ('Ghajini', {'plot': 'Rich person forgets everything after 15 minutes', 'rating': 10, 'streamed on': 'jio cinema'}), ('queen', {'streamed on': 'netflix', 'plot': 'punjabi girl goes on solo honeymoon', 'rating': 9}), ('slumdog millionaire', {'plot': 'who wants to be a millionaire', 'rating': 10, 'streamed on': 'amazon prime'})])"
      ]
     },
     "execution_count": 11,
     "metadata": {},
     "output_type": "execute_result"
    }
   ],
   "source": [
    "# getting both keys and values as pair\n",
    "movies.items()"
   ]
  },
  {
   "cell_type": "code",
   "execution_count": 17,
   "metadata": {},
   "outputs": [
    {
     "name": "stdout",
     "output_type": "stream",
     "text": [
      "SURYAVANSHAM\n",
      "streamed on    :: Sony max\n",
      "plot           :: Rich father doesnot like his illiterate son\n",
      "rating         :: 10\n",
      "\n",
      "GHAJINI\n",
      "plot           :: Rich person forgets everything after 15 minutes\n",
      "rating         :: 10\n",
      "streamed on    :: jio cinema\n",
      "\n",
      "QUEEN\n",
      "streamed on    :: netflix\n",
      "plot           :: punjabi girl goes on solo honeymoon\n",
      "rating         :: 9\n",
      "\n",
      "SLUMDOG MILLIONAIRE\n",
      "plot           :: who wants to be a millionaire\n",
      "rating         :: 10\n",
      "streamed on    :: amazon prime\n",
      "\n"
     ]
    }
   ],
   "source": [
    "for title, details in movies.items():\n",
    "    print(title.upper())\n",
    "    for entry,value in details.items():\n",
    "        print(f'{entry:15}:: {value}')\n",
    "    print()\n"
   ]
  },
  {
   "cell_type": "code",
   "execution_count": 18,
   "metadata": {},
   "outputs": [
    {
     "name": "stdout",
     "output_type": "stream",
     "text": [
      "{'Suryavansham': {'streamed on': 'Sony max', 'plot': 'Rich father doesnot like his illiterate son', 'rating': 10}, 'Ghajini': {'plot': 'Rich person forgets everything after 15 minutes', 'rating': 10, 'streamed on': 'jio cinema'}, 'slumdog millionaire': {'plot': 'who wants to be a millionaire', 'rating': 10, 'streamed on': 'amazon prime'}}\n"
     ]
    }
   ],
   "source": [
    "movies.pop('queen')\n",
    "print(movies)"
   ]
  },
  {
   "cell_type": "code",
   "execution_count": 19,
   "metadata": {},
   "outputs": [
    {
     "name": "stdout",
     "output_type": "stream",
     "text": [
      "{'Suryavansham': {'streamed on': 'Sony max', 'plot': 'Rich father doesnot like his illiterate son', 'rating': 10}, 'slumdog millionaire': {'plot': 'who wants to be a millionaire', 'rating': 10, 'streamed on': 'amazon prime'}}\n"
     ]
    }
   ],
   "source": [
    "movies.pop('Ghajini')\n",
    "print(movies)"
   ]
  },
  {
   "cell_type": "code",
   "execution_count": 21,
   "metadata": {},
   "outputs": [
    {
     "ename": "KeyError",
     "evalue": "'Ghajini'",
     "output_type": "error",
     "traceback": [
      "\u001b[1;31m---------------------------------------------------------------------------\u001b[0m",
      "\u001b[1;31mKeyError\u001b[0m                                  Traceback (most recent call last)",
      "Cell \u001b[1;32mIn[21], line 1\u001b[0m\n\u001b[1;32m----> 1\u001b[0m movies\u001b[39m.\u001b[39;49mpop(\u001b[39m'\u001b[39;49m\u001b[39mGhajini\u001b[39;49m\u001b[39m'\u001b[39;49m) \u001b[39m#bcoz ghajini movie is removed\u001b[39;00m\n\u001b[0;32m      2\u001b[0m \u001b[39mprint\u001b[39m(movies)\n",
      "\u001b[1;31mKeyError\u001b[0m: 'Ghajini'"
     ]
    }
   ],
   "source": [
    "movies.pop('Ghajini') #bcoz ghajini movie is removed\n",
    "print(movies)"
   ]
  },
  {
   "cell_type": "code",
   "execution_count": null,
   "metadata": {},
   "outputs": [],
   "source": []
  }
 ],
 "metadata": {
  "kernelspec": {
   "display_name": "base",
   "language": "python",
   "name": "python3"
  },
  "language_info": {
   "codemirror_mode": {
    "name": "ipython",
    "version": 3
   },
   "file_extension": ".py",
   "mimetype": "text/x-python",
   "name": "python",
   "nbconvert_exporter": "python",
   "pygments_lexer": "ipython3",
   "version": "3.10.10"
  },
  "orig_nbformat": 4
 },
 "nbformat": 4,
 "nbformat_minor": 2
}
