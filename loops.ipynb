{
 "cells": [
  {
   "attachments": {},
   "cell_type": "markdown",
   "metadata": {},
   "source": [
    "for and while loops\n",
    "\n",
    "for- step based loop\n",
    "\n",
    "    for i in range(10);\n",
    "    print (i)\n",
    "```    \n",
    "\n",
    "    - used for\n",
    "     - iterating over a sequence(list,tuple,string)\n",
    "     - iterating over a range\n",
    "\n",
    "while - condition based loop\n",
    "```\n",
    " i = 0\n",
    " while i< 10;\n",
    "    print (i)\n",
    "    i += 1\n",
    "```\n",
    "- used for\n",
    "    - iterating until a condition is met\n",
    "    - iterating until a condition is no longer met\n",
    "    - iterating forever (if you don't break out of it)    \n",
    "\n",
    "\n"
   ]
  },
  {
   "cell_type": "code",
   "execution_count": 1,
   "metadata": {},
   "outputs": [],
   "source": [
    "movies = ['Hangover','lord of the rings','extraction','fantastic beast',\n",
    "           'stranger things','dahmer','alladin','friends','kerala story',\n",
    "           'golmaal']"
   ]
  },
  {
   "cell_type": "code",
   "execution_count": 6,
   "metadata": {},
   "outputs": [
    {
     "name": "stdout",
     "output_type": "stream",
     "text": [
      "total movies = {len(movies)}\n"
     ]
    }
   ],
   "source": [
    "print('total movies = {len(movies)}')"
   ]
  },
  {
   "cell_type": "code",
   "execution_count": 7,
   "metadata": {},
   "outputs": [
    {
     "name": "stdout",
     "output_type": "stream",
     "text": [
      "total movies = 10\n"
     ]
    }
   ],
   "source": [
    "print(f'total movies = {len(movies)}')"
   ]
  },
  {
   "cell_type": "code",
   "execution_count": 8,
   "metadata": {},
   "outputs": [
    {
     "name": "stdout",
     "output_type": "stream",
     "text": [
      "Hangover\n",
      "lord of the rings\n",
      "extraction\n",
      "fantastic beast\n",
      "stranger things\n",
      "dahmer\n",
      "alladin\n",
      "friends\n",
      "kerala story\n",
      "golmaal\n"
     ]
    }
   ],
   "source": [
    "for movie in movies:\n",
    "    print(movie)"
   ]
  },
  {
   "cell_type": "code",
   "execution_count": 9,
   "metadata": {},
   "outputs": [
    {
     "name": "stdout",
     "output_type": "stream",
     "text": [
      "Hangover 8\n",
      "lord of the rings 17\n",
      "extraction 10\n",
      "fantastic beast 15\n",
      "stranger things 15\n",
      "dahmer 6\n",
      "alladin 7\n",
      "friends 7\n",
      "kerala story 12\n",
      "golmaal 7\n"
     ]
    }
   ],
   "source": [
    "for movie in movies:\n",
    "    print(movie, len(movie))"
   ]
  },
  {
   "cell_type": "code",
   "execution_count": 12,
   "metadata": {},
   "outputs": [
    {
     "name": "stdout",
     "output_type": "stream",
     "text": [
      "Hangover                                           8\n",
      "lord of the rings                                  17\n",
      "extraction                                         10\n",
      "fantastic beast                                    15\n",
      "stranger things                                    15\n",
      "dahmer                                             6\n",
      "alladin                                            7\n",
      "friends                                            7\n",
      "kerala story                                       12\n",
      "golmaal                                            7\n"
     ]
    }
   ],
   "source": [
    "for movie in movies:\n",
    "    print(f'{movie:50} {len(movie)}')"
   ]
  },
  {
   "cell_type": "code",
   "execution_count": 13,
   "metadata": {},
   "outputs": [
    {
     "name": "stdout",
     "output_type": "stream",
     "text": [
      "32 1024\n",
      "56 3136\n",
      "23 529\n",
      "56 3136\n",
      "12 144\n",
      "12 144\n",
      "67 4489\n",
      "56 3136\n",
      "7 49\n",
      "2 4\n"
     ]
    }
   ],
   "source": [
    "nums = [32,56,23,56,12,12,67,56,7,2]\n",
    "for i in nums:\n",
    "    print(i,i**2)"
   ]
  },
  {
   "cell_type": "code",
   "execution_count": 14,
   "metadata": {},
   "outputs": [
    {
     "name": "stdout",
     "output_type": "stream",
     "text": [
      "32 34\n",
      "56 58\n",
      "23 25\n",
      "56 58\n",
      "12 14\n",
      "12 14\n",
      "67 69\n",
      "56 58\n",
      "7 9\n",
      "2 4\n"
     ]
    }
   ],
   "source": [
    "nums = [32,56,23,56,12,12,67,56,7,2]\n",
    "for i in nums: \n",
    "    print(i,i+2)"
   ]
  },
  {
   "cell_type": "code",
   "execution_count": 15,
   "metadata": {},
   "outputs": [
    {
     "name": "stdout",
     "output_type": "stream",
     "text": [
      "32 1024\n",
      "56 3136\n",
      "56 3136\n",
      "12 144\n",
      "12 144\n",
      "56 3136\n",
      "2 4\n"
     ]
    }
   ],
   "source": [
    "for i in nums:\n",
    "    if i % 2 == 0: # for even\n",
    "        print(i,i**2) "
   ]
  },
  {
   "cell_type": "code",
   "execution_count": 17,
   "metadata": {},
   "outputs": [
    {
     "data": {
      "text/plain": [
       "323"
      ]
     },
     "execution_count": 17,
     "metadata": {},
     "output_type": "execute_result"
    }
   ],
   "source": [
    "sum(nums)\n",
    "#for all "
   ]
  },
  {
   "cell_type": "code",
   "execution_count": 18,
   "metadata": {},
   "outputs": [
    {
     "name": "stdout",
     "output_type": "stream",
     "text": [
      "226\n"
     ]
    }
   ],
   "source": [
    "total_evens = 0\n",
    "for i in nums:\n",
    "    if i % 2 == 0:\n",
    "        total_evens +=i\n",
    "print(total_evens)        "
   ]
  },
  {
   "cell_type": "code",
   "execution_count": 20,
   "metadata": {},
   "outputs": [
    {
     "name": "stdout",
     "output_type": "stream",
     "text": [
      "97\n"
     ]
    }
   ],
   "source": [
    "total_odds = 0\n",
    "for i in nums:\n",
    "    if i % 2 != 0: #for odd\n",
    "        total_odds +=i\n",
    "print(total_odds)  "
   ]
  },
  {
   "cell_type": "code",
   "execution_count": 22,
   "metadata": {},
   "outputs": [
    {
     "name": "stdout",
     "output_type": "stream",
     "text": [
      "32\n",
      "56\n"
     ]
    }
   ],
   "source": [
    "for i in nums:\n",
    "    print(i)\n",
    "    if i > 50:\n",
    "        break"
   ]
  },
  {
   "cell_type": "code",
   "execution_count": 25,
   "metadata": {},
   "outputs": [
    {
     "name": "stdout",
     "output_type": "stream",
     "text": [
      "apple\n",
      "mango\n",
      "grapes\n",
      "\n",
      "blueberry\n",
      "guava\n"
     ]
    }
   ],
   "source": [
    "x = [\"apple\",\"mango\",\"grapes\",\"\",\"blueberry\",\"guava\"]\n",
    "for item in x:\n",
    "    print(item)"
   ]
  },
  {
   "cell_type": "code",
   "execution_count": 26,
   "metadata": {},
   "outputs": [
    {
     "name": "stdout",
     "output_type": "stream",
     "text": [
      "apple\n",
      "mango\n",
      "grapes\n"
     ]
    }
   ],
   "source": [
    "x = [\"apple\",\"mango\",\"grapes\",\"\",\"blueberry\",\"guava\"]\n",
    "for item in x:\n",
    "    if len(item) == 0:\n",
    "        break\n",
    "    print(item)"
   ]
  },
  {
   "cell_type": "code",
   "execution_count": 27,
   "metadata": {},
   "outputs": [
    {
     "name": "stdout",
     "output_type": "stream",
     "text": [
      "Invalid username/password\n",
      "Invalid username/password\n",
      "Invalid username/password\n",
      "too many errors\n"
     ]
    }
   ],
   "source": [
    "errors = 0\n",
    "while True:\n",
    "    username = input('Enter username:')\n",
    "    password = input('Enter password')\n",
    "    if username == 'admin' and password == 'secret':\n",
    "        print ('Login successful')\n",
    "        break\n",
    "    elif errors == 3:\n",
    "        print ('too many errors')\n",
    "        break\n",
    "    else:\n",
    "        print('Invalid username/password')\n",
    "        errors += 1"
   ]
  },
  {
   "cell_type": "code",
   "execution_count": 28,
   "metadata": {},
   "outputs": [
    {
     "name": "stdout",
     "output_type": "stream",
     "text": [
      "Login successful\n"
     ]
    }
   ],
   "source": [
    "errors = 0\n",
    "while True:\n",
    "    username = input('Enter username:')\n",
    "    password = input('Enter password')\n",
    "    if username == 'admin' and password == 'secret':\n",
    "        print ('Login successful')\n",
    "        break\n",
    "    elif errors == 3:\n",
    "        print ('too many errors')\n",
    "        break\n",
    "    else:\n",
    "        print('Invalid username/password')\n",
    "        errors += 1"
   ]
  },
  {
   "cell_type": "code",
   "execution_count": null,
   "metadata": {},
   "outputs": [],
   "source": [
    "x = [\n",
    "    ['the fault in our stars', 1000],\n",
    "    [ 'my fault',1000]\n",
    "     'harry potter the cursed child',\n",
    "     'harry potter and the chamber of secrets',\n",
    "     'harry potter and the socerers stone',\n",
    "     ]\n",
    "]"
   ]
  }
 ],
 "metadata": {
  "kernelspec": {
   "display_name": "base",
   "language": "python",
   "name": "python3"
  },
  "language_info": {
   "codemirror_mode": {
    "name": "ipython",
    "version": 3
   },
   "file_extension": ".py",
   "mimetype": "text/x-python",
   "name": "python",
   "nbconvert_exporter": "python",
   "pygments_lexer": "ipython3",
   "version": "3.10.10"
  },
  "orig_nbformat": 4
 },
 "nbformat": 4,
 "nbformat_minor": 2
}
