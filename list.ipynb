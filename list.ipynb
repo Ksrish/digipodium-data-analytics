{
 "cells": [
  {
   "cell_type": "code",
   "execution_count": 2,
   "metadata": {},
   "outputs": [],
   "source": [
    "# defining list in python\n",
    "\n",
    "# list of numbers\n",
    "list1 =[\"Nikhilesh\",\"Aman\",'Rahul','Devansh','Rishab']\n",
    "\n",
    "# list of numbers\n",
    "list2 =[1,2,3,4,5,15,25,100]\n",
    "\n",
    "#Mixed data list\n",
    "list3 =['Ravi',90,102,93,29,44,\"B\",False,5.786]\n",
    "\n",
    "#nested list\n",
    "list4 =[[1,2,3],[3,4,5,7],[2,1]]"
   ]
  },
  {
   "cell_type": "code",
   "execution_count": 5,
   "metadata": {},
   "outputs": [
    {
     "name": "stdout",
     "output_type": "stream",
     "text": [
      "[40, 50, 60, 70, 80]\n"
     ]
    }
   ],
   "source": [
    "# Getting a list slice\n",
    "l = [10,20,30,40,50,60,70,80,90,100]\n",
    "slice1 = l[3: -2]\n",
    "print(slice1)"
   ]
  },
  {
   "cell_type": "code",
   "execution_count": 6,
   "metadata": {},
   "outputs": [
    {
     "name": "stdout",
     "output_type": "stream",
     "text": [
      "[10, 20, 30, 40, 50]\n",
      "[10, 20, 30, 40, 50]\n",
      "[60, 70, 80, 90, 100]\n",
      "[50, 60]\n"
     ]
    }
   ],
   "source": [
    "# Getting a list slice\n",
    "l = [10,20,30,40,50,60,70,80,90,100]\n",
    "slice1 =l[:5]\n",
    "slice2 =l[0:5]\n",
    "slice3 =l[5:]\n",
    "slice4 =l[4:-4]\n",
    "print(slice1)\n",
    "print(slice2)\n",
    "print(slice3)\n",
    "print(slice4)"
   ]
  },
  {
   "cell_type": "code",
   "execution_count": 9,
   "metadata": {},
   "outputs": [
    {
     "name": "stdout",
     "output_type": "stream",
     "text": [
      "[60, 70, 80, 90, 100]\n",
      "[60, 70, 80, 90, 100]\n"
     ]
    }
   ],
   "source": [
    "# Getting a list slice\n",
    "l = [10,20,30,40,50,60,70,80,90,100]\n",
    "slice1 =l[5:]\n",
    "slice2 = l[5:len(l)]\n",
    "print(slice1)\n",
    "print(slice2)"
   ]
  },
  {
   "cell_type": "code",
   "execution_count": 11,
   "metadata": {},
   "outputs": [],
   "source": [
    "\n",
    "list1 = [1,2,3,'a','b']\n"
   ]
  },
  {
   "cell_type": "code",
   "execution_count": 12,
   "metadata": {},
   "outputs": [
    {
     "name": "stdout",
     "output_type": "stream",
     "text": [
      "[1, 2, 3, 'a', 'b', 'd']\n"
     ]
    }
   ],
   "source": [
    "# append\n",
    "list2.append('c')\n",
    "list1.append('d')\n",
    "print(list1)\n"
   ]
  },
  {
   "cell_type": "code",
   "execution_count": 13,
   "metadata": {},
   "outputs": [
    {
     "name": "stdout",
     "output_type": "stream",
     "text": [
      "['e', 1, 2, 3, 'a', 'b', 'd']\n"
     ]
    }
   ],
   "source": [
    "list1.insert(0,'e')\n",
    "print(list1)\n"
   ]
  },
  {
   "cell_type": "code",
   "execution_count": null,
   "metadata": {},
   "outputs": [],
   "source": []
  }
 ],
 "metadata": {
  "kernelspec": {
   "display_name": "base",
   "language": "python",
   "name": "python3"
  },
  "language_info": {
   "codemirror_mode": {
    "name": "ipython",
    "version": 3
   },
   "file_extension": ".py",
   "mimetype": "text/x-python",
   "name": "python",
   "nbconvert_exporter": "python",
   "pygments_lexer": "ipython3",
   "version": "3.10.10"
  },
  "orig_nbformat": 4
 },
 "nbformat": 4,
 "nbformat_minor": 2
}
