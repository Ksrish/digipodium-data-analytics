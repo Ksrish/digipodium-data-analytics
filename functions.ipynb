{
 "cells": [
  {
   "cell_type": "code",
   "execution_count": 3,
   "metadata": {},
   "outputs": [],
   "source": [
    "def pythagoras(base, perpendicular):\n",
    "    return(base**2 + perpendicular**2)**0.5\n"
   ]
  },
  {
   "cell_type": "code",
   "execution_count": 4,
   "metadata": {},
   "outputs": [
    {
     "data": {
      "text/plain": [
       "13.0"
      ]
     },
     "execution_count": 4,
     "metadata": {},
     "output_type": "execute_result"
    }
   ],
   "source": [
    "pythagoras(12, 5)"
   ]
  },
  {
   "cell_type": "code",
   "execution_count": 5,
   "metadata": {},
   "outputs": [
    {
     "name": "stdout",
     "output_type": "stream",
     "text": [
      "9\n",
      "16\n",
      "121\n",
      "256\n"
     ]
    }
   ],
   "source": [
    "f = lambda x: x**2 + 2*x + 1\n",
    "\n",
    "print(f(2))\n",
    "print(f(3))\n",
    "print(f(10))\n",
    "print(f(15))"
   ]
  },
  {
   "cell_type": "code",
   "execution_count": 6,
   "metadata": {},
   "outputs": [
    {
     "name": "stdout",
     "output_type": "stream",
     "text": [
      "25\n",
      "49\n"
     ]
    }
   ],
   "source": [
    "g = lambda x, y: x**2 + 2*x*y + y**2\n",
    "print(g(2,3))\n",
    "print(g(3,4))\n"
   ]
  },
  {
   "cell_type": "code",
   "execution_count": 7,
   "metadata": {},
   "outputs": [],
   "source": [
    "h = lambda p,b:(p**2+ b**2)**0.5"
   ]
  },
  {
   "cell_type": "code",
   "execution_count": 8,
   "metadata": {},
   "outputs": [
    {
     "name": "stdout",
     "output_type": "stream",
     "text": [
      "5.830951894845301\n"
     ]
    }
   ],
   "source": [
    "print(h(3,5))"
   ]
  },
  {
   "cell_type": "code",
   "execution_count": 9,
   "metadata": {},
   "outputs": [
    {
     "data": {
      "text/plain": [
       "10080.0"
      ]
     },
     "execution_count": 9,
     "metadata": {},
     "output_type": "execute_result"
    }
   ],
   "source": [
    "#what is the amount after 16% discount on 12000\n",
    "12000 * (1 - .16)"
   ]
  },
  {
   "cell_type": "code",
   "execution_count": 10,
   "metadata": {},
   "outputs": [
    {
     "name": "stdout",
     "output_type": "stream",
     "text": [
      "8400.0\n",
      "25200.0\n",
      "10919.16\n",
      "42000.0\n",
      "36959.159999999996\n",
      "8820.0\n"
     ]
    }
   ],
   "source": [
    "prices = [10000, 30000 ,12999, 50000, 43999, 10500]\n",
    "for i in prices:\n",
    "    x=(i* (1 - .16))\n",
    "    print(x)"
   ]
  },
  {
   "cell_type": "code",
   "execution_count": 11,
   "metadata": {},
   "outputs": [
    {
     "name": "stdout",
     "output_type": "stream",
     "text": [
      "discount amt for 10000 is 8400.0\n",
      "discount amt for 30000 is 25200.0\n",
      "discount amt for 12999 is 10919.16\n",
      "discount amt for 50000 is 42000.0\n",
      "discount amt for 43999 is 36959.159999999996\n",
      "discount amt for 10500 is 8820.0\n"
     ]
    }
   ],
   "source": [
    "prices = [10000, 30000 ,12999, 50000, 43999, 10500]\n",
    "for i in prices:\n",
    "    x=(i* (1 - .16))\n",
    "    print(\"discount amt for\",i,\"is\",x)"
   ]
  },
  {
   "cell_type": "code",
   "execution_count": 12,
   "metadata": {},
   "outputs": [
    {
     "name": "stdout",
     "output_type": "stream",
     "text": [
      "[10000, 30000, 12999, 50000, 43999, 10500]\n",
      "[8400.0, 25200.0, 10919.16, 42000.0, 36959.159999999996, 8820.0]\n"
     ]
    }
   ],
   "source": [
    "prices = [10000, 30000 ,12999, 50000, 43999, 10500]\n",
    "dis_prices =[]\n",
    "for i in prices:\n",
    "    ans=(i* (1 - .16))\n",
    "    \n",
    "    dis_prices.append(ans)\n",
    "print(prices)\n",
    "print(dis_prices)"
   ]
  },
  {
   "cell_type": "code",
   "execution_count": 13,
   "metadata": {},
   "outputs": [
    {
     "name": "stdout",
     "output_type": "stream",
     "text": [
      "[8400.0, 25200.0, 10919.16, 42000.0, 36959.159999999996, 8820.0]\n"
     ]
    }
   ],
   "source": [
    "dis_price = list(map(lambda p: p*( 1- .16), prices))\n",
    "print(dis_price)"
   ]
  },
  {
   "cell_type": "code",
   "execution_count": 14,
   "metadata": {},
   "outputs": [
    {
     "name": "stdout",
     "output_type": "stream",
     "text": [
      "[1, 4, 16, 36, 9, 49, 25, 64, 441]\n"
     ]
    }
   ],
   "source": [
    "x = [1,2,4,6,3,7,5,8,21]\n",
    "# generate a list y that contains the square of each element in x\n",
    "y = list(map(lambda x: x**2,x))\n",
    "print(y)"
   ]
  },
  {
   "cell_type": "code",
   "execution_count": 15,
   "metadata": {},
   "outputs": [
    {
     "name": "stdout",
     "output_type": "stream",
     "text": [
      "1\n",
      "4\n",
      "16\n",
      "36\n",
      "9\n",
      "49\n",
      "25\n",
      "64\n",
      "441\n"
     ]
    }
   ],
   "source": [
    "x = [1,2,4,6,3,7,5,8,21]\n",
    "for i in x:\n",
    "    y =(i**2)\n",
    "    print(y)"
   ]
  },
  {
   "cell_type": "code",
   "execution_count": 16,
   "metadata": {},
   "outputs": [
    {
     "name": "stdout",
     "output_type": "stream",
     "text": [
      "3.0\n"
     ]
    }
   ],
   "source": [
    "f=lambda b,h:(b*h)*0.5\n",
    "print(f(3,2))"
   ]
  },
  {
   "cell_type": "code",
   "execution_count": null,
   "metadata": {},
   "outputs": [],
   "source": [
    "f = [2,4,6,8,10,12,14]\n",
    "def total(data):\n",
    "    for i in data:\n",
    "        result += i\n",
    "    \n",
    "    return result"
   ]
  },
  {
   "cell_type": "code",
   "execution_count": null,
   "metadata": {},
   "outputs": [],
   "source": []
  }
 ],
 "metadata": {
  "kernelspec": {
   "display_name": "base",
   "language": "python",
   "name": "python3"
  },
  "language_info": {
   "codemirror_mode": {
    "name": "ipython",
    "version": 3
   },
   "file_extension": ".py",
   "mimetype": "text/x-python",
   "name": "python",
   "nbconvert_exporter": "python",
   "pygments_lexer": "ipython3",
   "version": "3.10.10"
  },
  "orig_nbformat": 4
 },
 "nbformat": 4,
 "nbformat_minor": 2
}
