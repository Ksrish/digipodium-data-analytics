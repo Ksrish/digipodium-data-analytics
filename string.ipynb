{
 "cells": [
  {
   "cell_type": "code",
   "execution_count": 1,
   "metadata": {},
   "outputs": [],
   "source": [
    "# INICIALIZED THE STRING\n",
    "# S=\"\"\n",
    "# TYPECASTING\n",
    "# print(str(b))\n"
   ]
  },
  {
   "cell_type": "code",
   "execution_count": 2,
   "metadata": {},
   "outputs": [
    {
     "name": "stdout",
     "output_type": "stream",
     "text": [
      "15\n"
     ]
    }
   ],
   "source": [
    "# length\n",
    "s='srishti kashyap'\n",
    "print(len(s))"
   ]
  },
  {
   "cell_type": "code",
   "execution_count": 7,
   "metadata": {},
   "outputs": [
    {
     "name": "stdout",
     "output_type": "stream",
     "text": [
      "i\n"
     ]
    }
   ],
   "source": [
    "# indexing\n",
    "print(s[2])"
   ]
  },
  {
   "cell_type": "code",
   "execution_count": 9,
   "metadata": {},
   "outputs": [
    {
     "name": "stdout",
     "output_type": "stream",
     "text": [
      "0 s\n",
      "1 r\n",
      "2 i\n",
      "3 s\n",
      "4 h\n",
      "5 t\n",
      "6 i\n",
      "7  \n",
      "8 k\n",
      "9 a\n",
      "10 s\n",
      "11 h\n",
      "12 y\n",
      "13 a\n",
      "14 p\n"
     ]
    }
   ],
   "source": [
    "for i in range(len(s)):\n",
    "    print(i,s[i])"
   ]
  },
  {
   "cell_type": "code",
   "execution_count": 12,
   "metadata": {},
   "outputs": [
    {
     "name": "stdout",
     "output_type": "stream",
     "text": [
      "srishti kashyap\n",
      " kashyap\n",
      "srishti\n"
     ]
    }
   ],
   "source": [
    "# slicing\n",
    "print(s[:])\n",
    "print(s[7:])\n",
    "print(s[:7])\n"
   ]
  },
  {
   "cell_type": "code",
   "execution_count": 6,
   "metadata": {},
   "outputs": [
    {
     "name": "stdout",
     "output_type": "stream",
     "text": [
      ", Strengh before weakness, Journey besfore destination.\n",
      "Life before death\n"
     ]
    }
   ],
   "source": [
    "msg = 'Life before death, Strengh before weakness, Journey besfore destination.'\n",
    "print(msg[17:])\n",
    "print(msg[:17])"
   ]
  },
  {
   "cell_type": "code",
   "execution_count": 7,
   "metadata": {},
   "outputs": [
    {
     "name": "stdout",
     "output_type": "stream",
     "text": [
      "72\n"
     ]
    }
   ],
   "source": [
    "print(len(msg))"
   ]
  },
  {
   "cell_type": "code",
   "execution_count": 8,
   "metadata": {},
   "outputs": [
    {
     "data": {
      "text/plain": [
       "['Life',\n",
       " 'before',\n",
       " 'death,',\n",
       " 'Strengh',\n",
       " 'before',\n",
       " 'weakness,',\n",
       " 'Journey',\n",
       " 'besfore',\n",
       " 'destination.']"
      ]
     },
     "execution_count": 8,
     "metadata": {},
     "output_type": "execute_result"
    }
   ],
   "source": [
    "msg.split()"
   ]
  },
  {
   "cell_type": "code",
   "execution_count": 9,
   "metadata": {},
   "outputs": [
    {
     "data": {
      "text/plain": [
       "['Life before death',\n",
       " ' Strengh before weakness',\n",
       " ' Journey besfore destination.']"
      ]
     },
     "execution_count": 9,
     "metadata": {},
     "output_type": "execute_result"
    }
   ],
   "source": [
    "msg.split(',')"
   ]
  },
  {
   "attachments": {},
   "cell_type": "markdown",
   "metadata": {},
   "source": []
  },
  {
   "cell_type": "code",
   "execution_count": 10,
   "metadata": {},
   "outputs": [],
   "source": [
    "poem=('Rain rain go away ,come again another day,little johny wants to play, rain rain go away')\n"
   ]
  },
  {
   "cell_type": "code",
   "execution_count": 30,
   "metadata": {},
   "outputs": [
    {
     "name": "stdout",
     "output_type": "stream",
     "text": [
      "Rain Rain go away ,come again another day,\n",
      "little johny wants to play, Rain Rain go away\n",
      "-x--x--x--x--x--x--x--x--x--x--x--x--x--x--x--x-\n",
      "88 number of characters\n",
      "17 num of words\n",
      "2 num of lines\n"
     ]
    }
   ],
   "source": [
    "poem='''Rain Rain go away ,come again another day,\n",
    "little johny wants to play, Rain Rain go away'''\n",
    "print(poem)\n",
    "print('-x-'*16)\n",
    "print(len(poem),'number of characters')\n",
    "print(len(poem.split()),'num of words')\n",
    "print(len(poem.splitlines()),'num of lines')\n"
   ]
  },
  {
   "cell_type": "code",
   "execution_count": 15,
   "metadata": {},
   "outputs": [
    {
     "name": "stdout",
     "output_type": "stream",
     "text": [
      " ,come again another day,\n",
      "little johny wants to play, rain rain go away\n",
      "Rain rain go away\n"
     ]
    }
   ],
   "source": [
    "print(poem[17:])\n",
    "print(poem[:17])"
   ]
  },
  {
   "cell_type": "code",
   "execution_count": 31,
   "metadata": {},
   "outputs": [
    {
     "name": "stdout",
     "output_type": "stream",
     "text": [
      "0\n"
     ]
    }
   ],
   "source": [
    "print(poem.count('rain'))"
   ]
  },
  {
   "cell_type": "code",
   "execution_count": 32,
   "metadata": {},
   "outputs": [
    {
     "name": "stdout",
     "output_type": "stream",
     "text": [
      "RAIN RAIN GO AWAY ,COME AGAIN ANOTHER DAY,\n",
      "LITTLE JOHNY WANTS TO PLAY, RAIN RAIN GO AWAY\n",
      "rain rain go away ,come again another day,\n",
      "little johny wants to play, rain rain go away\n",
      "Rain Rain Go Away ,Come Again Another Day,\n",
      "Little Johny Wants To Play, Rain Rain Go Away\n",
      "Rain rain go away ,come again another day,\n",
      "little johny wants to play, rain rain go away\n",
      "rAIN rAIN GO AWAY ,COME AGAIN ANOTHER DAY,\n",
      "LITTLE JOHNY WANTS TO PLAY, rAIN rAIN GO AWAY\n"
     ]
    }
   ],
   "source": [
    "print(poem.upper())\n",
    "print(poem.lower())\n",
    "print(poem.title())\n",
    "print(poem.capitalize())\n",
    "print(poem.swapcase())"
   ]
  },
  {
   "cell_type": "code",
   "execution_count": 33,
   "metadata": {},
   "outputs": [
    {
     "name": "stdout",
     "output_type": "stream",
     "text": [
      "apple False\n",
      "apple True\n",
      "apple True\n"
     ]
    }
   ],
   "source": [
    "a = 'apple'\n",
    "b =  '290'\n",
    "c = 'apple100'\n",
    "print(a, a.isnumeric()) # check if all characters are numeric\n",
    "print(a, a.isalpha()) # check if all characters are alphabets\n",
    "print(a, a.isalnum()) # check if all characters are alphanumeric\n"
   ]
  },
  {
   "cell_type": "code",
   "execution_count": 27,
   "metadata": {},
   "outputs": [
    {
     "name": "stdout",
     "output_type": "stream",
     "text": [
      "290 True\n",
      "290 False\n",
      "290 True\n"
     ]
    }
   ],
   "source": [
    "a = 'apple'\n",
    "b =  '290'\n",
    "c = 'apple100'\n",
    "print(b, b.isnumeric()) # check if all characters are numeric\n",
    "print(b, b.isalpha()) # check if all characters are alphabets\n",
    "print(b, b.isalnum()) # check if all characters are alphanumeric\n"
   ]
  },
  {
   "cell_type": "code",
   "execution_count": 34,
   "metadata": {},
   "outputs": [
    {
     "name": "stdout",
     "output_type": "stream",
     "text": [
      "pain pain go away ,come again another day,\n",
      "little johny wants to play, pain pain go away\n"
     ]
    }
   ],
   "source": [
    "print(poem.replace('Rain','pain'))"
   ]
  },
  {
   "cell_type": "code",
   "execution_count": 37,
   "metadata": {},
   "outputs": [
    {
     "name": "stdout",
     "output_type": "stream",
     "text": [
      "srishti srishti go away ,come again another day,\n",
      "little johny wants to play, srishti srishti go away\n"
     ]
    }
   ],
   "source": [
    "print(poem.replace('Rain','srishti'))"
   ]
  },
  {
   "cell_type": "code",
   "execution_count": null,
   "metadata": {},
   "outputs": [],
   "source": []
  }
 ],
 "metadata": {
  "kernelspec": {
   "display_name": "base",
   "language": "python",
   "name": "python3"
  },
  "language_info": {
   "codemirror_mode": {
    "name": "ipython",
    "version": 3
   },
   "file_extension": ".py",
   "mimetype": "text/x-python",
   "name": "python",
   "nbconvert_exporter": "python",
   "pygments_lexer": "ipython3",
   "version": "3.10.10"
  },
  "orig_nbformat": 4
 },
 "nbformat": 4,
 "nbformat_minor": 2
}
